{
 "cells": [
  {
   "cell_type": "code",
   "execution_count": 26,
   "metadata": {},
   "outputs": [],
   "source": [
    "import numpy as np\n",
    "import pandas as pd\n",
    "test=pd.read_csv(r'C:\\Users\\ASUS\\Desktop\\Ma_ler\\Dsets\\digit_test.csv')\n",
    "X_train=pd.read_csv(r'C:\\Users\\ASUS\\Desktop\\Ma_ler\\Dsets\\digit_train.csv')\n",
    "Y_train=X_train['label']\n",
    "X_train.drop(columns=['label'],inplace=True)\n",
    "X_train.head()\n",
    "from sklearn.model_selection import train_test_split\n",
    "X_train,X_test,Y_train,Y_test=train_test_split(X_train,Y_train,test_size=0.2)"
   ]
  },
  {
   "cell_type": "code",
   "execution_count": 27,
   "metadata": {},
   "outputs": [
    {
     "data": {
      "image/png": "[encoded data removed]",
      "text/plain": [
       "<Figure size 640x480 with 1 Axes>"
      ]
     },
     "metadata": {},
     "output_type": "display_data"
    }
   ],
   "source": [
    "from sklearn.tree import DecisionTreeClassifier\n",
    "import numpy as np\n",
    "from sklearn.ensemble import RandomForestClassifier\n",
    "import matplotlib.pyplot as plt\n",
    "model=RandomForestClassifier()\n",
    "model.fit(X_train,Y_train)\n",
    "model.feature_importances_\n",
    "plt.imshow(model.feature_importances_.reshape(28,28))\n",
    "plt.show()"
   ]
  },
  {
   "cell_type": "code",
   "execution_count": 28,
   "metadata": {},
   "outputs": [
    {
     "name": "stdout",
     "output_type": "stream",
     "text": [
      "115429556446.04375\n",
      "153\n"
     ]
    }
   ],
   "source": [
    "from sklearn.decomposition import PCA\n",
    "model=PCA()\n",
    "model.fit(X_train,Y_train)\n",
    "eigen_values=model.explained_variance_*(X_train.shape[0]-1)\n",
    "sum=np.sum(eigen_values)\n",
    "print(sum)\n",
    "sorted(eigen_values,reverse=True)\n",
    "curr=0\n",
    "count=0\n",
    "for i in eigen_values:\n",
    "    count+=1\n",
    "    curr+=i\n",
    "    if(curr>=0.95*sum):break\n",
    "print(count)"
   ]
  },
  {
   "cell_type": "code",
   "execution_count": 30,
   "metadata": {},
   "outputs": [
    {
     "data": {
      "text/plain": [
       "array([[ 848.57488761, -103.28967077,  785.15118778, ...,   48.82345445,\n",
       "          21.43889847,  -83.11909683],\n",
       "       [1152.45930063,  -12.26033003,  200.82673362, ...,   36.68214473,\n",
       "          29.40572048,   -3.31022386],\n",
       "       [-507.66718978,   90.21043104,  164.90794245, ...,   17.85568727,\n",
       "         -32.76897089,  -89.10380411],\n",
       "       ...,\n",
       "       [-135.05765078, -662.91741055, -861.76465949, ...,  -39.37815032,\n",
       "           3.98439358,   45.58714812],\n",
       "       [ -72.29747679,  574.93796806, -323.85861348, ...,  -20.26127287,\n",
       "          11.81229904,    3.86452584],\n",
       "       [ 595.29461772,  162.43029657,  817.95743539, ...,  -14.74613902,\n",
       "          46.63633281,  -23.61147366]])"
      ]
     },
     "execution_count": 30,
     "metadata": {},
     "output_type": "execute_result"
    }
   ],
   "source": [
    "model=PCA(n_components=200)\n",
    "model.fit_transform(X_train)\n",
    "model.transform(X_test)\n",
    "model.transform(test)"
   ]
  },
  {
   "cell_type": "code",
   "execution_count": 32,
   "metadata": {},
   "outputs": [
    {
     "name": "stdout",
     "output_type": "stream",
     "text": [
      "Fitting 5 folds for each of 8 candidates, totalling 40 fits\n",
      "{'criterion': 'gini', 'n_estimators': 200, 'n_jobs': -1} 0.9624404761904761\n"
     ]
    }
   ],
   "source": [
    "from sklearn.metrics import accuracy_score\n",
    "params=dict()\n",
    "params={\n",
    "    'n_estimators':[10,50,100,200],\n",
    "    'n_jobs':[-1],\n",
    "    'criterion':['gini','entropy'],\n",
    "}\n",
    "from sklearn.model_selection import GridSearchCV\n",
    "model=GridSearchCV(estimator=RandomForestClassifier(),param_grid=params,verbose=True,scoring='accuracy')\n",
    "model.fit(X_train,Y_train)\n",
    "print(model.best_params_,model.best_score_)"
   ]
  },
  {
   "cell_type": "code",
   "execution_count": 49,
   "metadata": {},
   "outputs": [
    {
     "name": "stdout",
     "output_type": "stream",
     "text": [
      "0.9654761904761905\n"
     ]
    }
   ],
   "source": [
    "model=RandomForestClassifier(n_estimators=200,n_jobs=-1,criterion='gini')\n",
    "model.fit(X_train,Y_train)\n",
    "res=pd.DataFrame()\n",
    "res['Label']=model.predict(X_test)\n",
    "print(accuracy_score(Y_test,res))\n",
    "k=pd.DataFrame()\n",
    "k['Label']=model.predict(test)"
   ]
  },
  {
   "cell_type": "code",
   "execution_count": 57,
   "metadata": {},
   "outputs": [],
   "source": [
    "k['ImageId']=k.index+1\n",
    "k.reset_index(drop=True)\n",
    "k.to_csv('Result.csv',index=False)"
   ]
  }
 ],
 "metadata": {
  "kernelspec": {
   "display_name": "Python 3",
   "language": "python",
   "name": "python3"
  },
  "language_info": {
   "codemirror_mode": {
    "name": "ipython",
    "version": 3
   },
   "file_extension": ".py",
   "mimetype": "text/x-python",
   "name": "python",
   "nbconvert_exporter": "python",
   "pygments_lexer": "ipython3",
   "version": "3.12.4"
  }
 },
 "nbformat": 4,
 "nbformat_minor": 2
}
