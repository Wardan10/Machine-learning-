{
 "cells": [
  {
   "cell_type": "markdown",
   "metadata": {},
   "source": [
    "# Z-score method\n",
    "\n",
    "Dist of the data is normal then remove the trim or modif y the data that is mean-3*std_dev is an outlier\n",
    "\n",
    "-> 1*std_dev 66% \n",
    "-> 2*std_dev 95.4%\n",
    "-> 3*std_dev 99.7%\n",
    "\n",
    "calculate z-score:\n",
    "\n",
    "Z= X-mean/std_dev\n",
    "\n",
    "if(Z<-3 or Z>3):then an outlier\n"
   ]
  },
  {
   "cell_type": "code",
   "execution_count": null,
   "metadata": {},
   "outputs": [],
   "source": [
    "import pandas as pd\n",
    "df=pd.DataFrame()\n",
    "mean,std_dev=int()\n",
    "#  Trimming:\n",
    "df=df[(df['some_param']<mean+3*std_dev) and df['some_param']>mean-3*std_dev]\n",
    "\n",
    "#  Capping:\n",
    "#  just write a func to replacw them with asthe limiters"
   ]
  },
  {
   "cell_type": "markdown",
   "metadata": {},
   "source": [
    "# IQR plot(Box plot)->\n",
    "\n",
    "Inter Quartile range: Q1-> 25th percentile(median of lower half)\n",
    "                      Q3-> 75th percentile(median of ipper half)\n",
    "                      IQR= Q3 to Q1\n",
    "min= Q1-1.5(IQR)      \n",
    "max= Q3+1.3(IQR)\n",
    "\n",
    "less than and more than min and max -> outliers"
   ]
  },
  {
   "cell_type": "code",
   "execution_count": null,
   "metadata": {},
   "outputs": [],
   "source": [
    "first_quatile =df['col'].quantile(0.25)\n",
    "second_quatile=df['col'].quatile(0.75)\n",
    "iqr=second_quatile-first_quatile\n",
    "lower_limit=first_quatile-1.5*iqr\n",
    "upper_limit=second_quatile+1.5*iqr\n",
    "# blah blah so on"
   ]
  },
  {
   "cell_type": "markdown",
   "metadata": {},
   "source": [
    "# Winsorization Technique\n",
    "\n",
    "decide a percentile(threshold both the min side and the max side) ex. 1 percetile \n",
    "\n",
    "the we can remove the values less than and more than the threshold"
   ]
  }
 ],
 "metadata": {
  "language_info": {
   "name": "python"
  }
 },
 "nbformat": 4,
 "nbformat_minor": 2
}
